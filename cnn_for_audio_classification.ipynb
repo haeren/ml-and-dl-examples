{
  "nbformat": 4,
  "nbformat_minor": 0,
  "metadata": {
    "colab": {
      "name": "Hakan-Alp-Eren-HW5.ipynb",
      "provenance": [],
      "collapsed_sections": []
    },
    "kernelspec": {
      "name": "python3",
      "display_name": "Python 3"
    },
    "language_info": {
      "name": "python"
    },
    "accelerator": "GPU"
  },
  "cells": [
    {
      "cell_type": "code",
      "source": [
        "import os\n",
        "import pandas as pd\n",
        "from pathlib import Path\n",
        "import matplotlib.pyplot as plt\n",
        "import numpy as np\n",
        "from scipy import signal"
      ],
      "metadata": {
        "id": "hXm-4JQNbIyT"
      },
      "execution_count": 7,
      "outputs": []
    },
    {
      "cell_type": "code",
      "execution_count": 8,
      "metadata": {
        "id": "90jdwtSMOrgu"
      },
      "outputs": [],
      "source": [
        "# Function for converting audio to spectrogram\n",
        "def log_specgram(audio, sample_rate, window_size=20, step_size=10, eps=1e-10):\n",
        "    nperseg = int(round(window_size * sample_rate / 1e3))\n",
        "    noverlap = int(round(step_size * sample_rate / 1e3))\n",
        "    freqs, _, spec = signal.spectrogram(audio,\n",
        "                                    fs=sample_rate,\n",
        "                                    window='hann',\n",
        "                                    nperseg=nperseg,\n",
        "                                    noverlap=noverlap,\n",
        "                                    detrend=False)\n",
        "    return freqs, np.log(spec.T.astype(np.float32) + eps)\n",
        "\n",
        "sample_rate = 30000\n",
        "path = Path('/content/drive/MyDrive/YuksekLisans/DLAPP/HW5/GearboxFaultDiagnosis/')\n",
        "audios = []\n",
        "labels = []\n",
        "file_names = []\n",
        "save_root = Path('/content/drive/MyDrive/YuksekLisans/DLAPP/HW5/Spectrograms/')\n",
        "\n",
        "# Get audio data and labels from csv files\n",
        "for root, dirs, files in os.walk(path):\n",
        "    for file in files:\n",
        "        if file.endswith('.csv'):\n",
        "            file_path = os.path.join(root, file)\n",
        "            file_content = pd.read_csv(file_path)\n",
        "            file_name = os.path.splitext(file)[0]\n",
        "            \n",
        "            for i in range(file_content.shape[1]): # Append each column (different sensors) as a sample\n",
        "                audios.append(file_content.iloc[:,i].to_numpy())\n",
        "                labels.append(Path(root).parts[-1])\n",
        "                file_names.append(file_name + 'a' + str(i+1))\n",
        "        else:\n",
        "            continue       \n",
        "\n",
        "min_val = np.inf\n",
        "max_val = -np.inf\n",
        "max_len = -np.inf\n",
        "\n",
        "# Find maximum length to calculate pad width for shorter audio data\n",
        "for audio in audios:\n",
        "    current_min = np.min(audio)\n",
        "    current_max = np.max(audio)\n",
        "    current_len = len(audio)\n",
        "    if current_min < min_val:\n",
        "        min_val = current_min\n",
        "    if current_max > max_val:\n",
        "        max_val = current_max\n",
        "    if current_len > max_len:\n",
        "        max_len = current_len\n",
        "\n",
        "# Pad zeros at the beginning of shorter audio data and save as spectrogram image\n",
        "for idx, audio in enumerate(audios):\n",
        "    pad_len = max_len - len(audio)\n",
        "    audios[idx] = np.pad(audio, (pad_len,0), 'constant', constant_values=(0))\n",
        "    save_path = save_root/labels[idx]\n",
        "    save_path.mkdir(parents=True, exist_ok=True)\n",
        "    _, spectrogram = log_specgram(audios[idx], sample_rate)\n",
        "    plt.imsave(save_path/(str(idx) + '.png'), spectrogram.T)\n",
        "    plt.close()\n",
        "\n",
        "#plt.ylim(min_val, max_val)\n",
        "#plt.axis('off')\n",
        "#plt.plot(audios[23])\n",
        "#plt.plot(audios[24])\n",
        "#plt.show()"
      ]
    },
    {
      "cell_type": "code",
      "source": [
        "import torch\n",
        "import torch.nn as nn\n",
        "import torch.nn.functional as F\n",
        "import torch.optim as optim\n",
        "from torchvision import datasets, transforms\n",
        "from torch.utils.data import DataLoader, random_split\n",
        "from sklearn.metrics import confusion_matrix"
      ],
      "metadata": {
        "id": "gl7tIHl1SAU-"
      },
      "execution_count": 9,
      "outputs": []
    },
    {
      "cell_type": "code",
      "source": [
        "#torch.cuda.empty_cache()\n",
        "device = torch.device(\"cuda:0\" if torch.cuda.is_available() else \"cpu\")         # Use GPU if available\n",
        "data_path = Path('/content/drive/MyDrive/YuksekLisans/DLAPP/HW5/Spectrograms/') # Path of the data set\n",
        "\n",
        "# 60 train, 10 validation and 10 test samples from 80 spectrogram images\n",
        "train_size = 60\n",
        "val_size = 10\n",
        "test_size = 10\n",
        "\n",
        "transform = transforms.Compose([\n",
        "        transforms.Grayscale(),\n",
        "        #transforms.RandomRotation(20),\n",
        "        #transforms.RandomResizedCrop(128),\n",
        "        #transforms.Resize((126,100)),\n",
        "        #transforms.RandomHorizontalFlip(),\n",
        "        transforms.ToTensor()])\n",
        "\n",
        "data_set = datasets.ImageFolder(data_path, transform=transform)\n",
        "train_set, val_set, test_set = random_split(data_set, [train_size, val_size, test_size])\n",
        "\n",
        "train_loader = DataLoader(train_set, batch_size=2, shuffle=True)\n",
        "val_loader = DataLoader(val_set, batch_size=2, shuffle=False)\n",
        "test_loader = DataLoader(test_set, batch_size=2, shuffle=False)"
      ],
      "metadata": {
        "id": "is2RlgckTgP8"
      },
      "execution_count": 110,
      "outputs": []
    },
    {
      "cell_type": "code",
      "source": [
        "class Net(nn.Module):\n",
        "    def __init__(self):\n",
        "        super(Net, self).__init__()\n",
        "        self.conv1 = nn.Conv2d(1, 16, 3, 1)\n",
        "        self.do1 = nn.Dropout(p=0.25)\n",
        "        self.conv2 = nn.Conv2d(16, 32, 3, 1)\n",
        "        self.do2 = nn.Dropout(p=0.25)\n",
        "        self.fc1 = nn.Linear(93*73*32, 32)\n",
        "        self.do3 = nn.Dropout(p=0.25)\n",
        "        self.fc2 = nn.Linear(32, 2)\n",
        "        self.do4 = nn.Dropout(p=0.25)\n",
        "        \n",
        "    def forward(self, x):\n",
        "        x = self.conv1(x)\n",
        "        x = self.do1(x)\n",
        "        x = F.silu(x)\n",
        "        x = F.max_pool2d(x,2,2)\n",
        "        \n",
        "        x = self.conv2(x)\n",
        "        x = self.do2(x)\n",
        "        x = F.silu(x)\n",
        "        x = F.max_pool2d(x,2,2)\n",
        "     \n",
        "        # To check the shape before fully connected layer\n",
        "        #print(x.shape)\n",
        "        x = x.view(-1,93*73*32)\n",
        "\n",
        "        x = self.fc1(x)\n",
        "        #x = F.relu(x)\n",
        "        x = self.do3(x)\n",
        "\n",
        "        x = self.fc2(x)     \n",
        "        #x = F.relu(x)\n",
        "        x = self.do4(x)\n",
        "\n",
        "        return F.log_softmax(x, dim=1)"
      ],
      "metadata": {
        "id": "acsU5PvUU9tl"
      },
      "execution_count": 111,
      "outputs": []
    },
    {
      "cell_type": "code",
      "source": [
        "# Check\n",
        "myInput = torch.Tensor(1, 1, 380, 301)\n",
        "myNet = Net()\n",
        "myOutput = myNet(myInput)\n",
        "print(myOutput)"
      ],
      "metadata": {
        "colab": {
          "base_uri": "https://localhost:8080/"
        },
        "id": "2LW7ujzedpM9",
        "outputId": "3c401958-a0ed-4c6f-8a0d-8bc079224694"
      },
      "execution_count": 112,
      "outputs": [
        {
          "output_type": "stream",
          "name": "stdout",
          "text": [
            "tensor([[nan, nan]], grad_fn=<LogSoftmaxBackward0>)\n"
          ]
        }
      ]
    },
    {
      "cell_type": "code",
      "source": [
        "#torch.manual_seed(42)\n",
        "model = Net()\n",
        "if torch.cuda.is_available():\n",
        "    model.cuda()\n",
        "\n",
        "criterion = nn.NLLLoss()\n",
        "optimizer = optim.Adam(model.parameters(), lr=1e-3)\n",
        "scheduler = optim.lr_scheduler.StepLR(optimizer, step_size=10, gamma=0.5)\n",
        "epoch = 40\n",
        "\n",
        "train_loss_list = []    # List to store the average training loss of each epoch\n",
        "train_correct_list = [] # List to store the number of correctly predicted training samples per epoch\n",
        "val_loss_list = []      # List to store the average validation loss of each epoch\n",
        "val_correct_list = []   # List to store the number of correctly predicted validation samples per epoch\n",
        "best_val_loss = np.inf  # To check if the validation loss is better than the one in previous epoch, if so then store the model state\n",
        "model_state = None      # Variable to store the model state\n",
        "model_path = Path('/content/drive/MyDrive/YuksekLisans/DLAPP/HW5/model.pt')  # Path to save the model"
      ],
      "metadata": {
        "id": "k6JCZUiAVVTR"
      },
      "execution_count": 113,
      "outputs": []
    },
    {
      "cell_type": "code",
      "source": [
        "for i in range(epoch):\n",
        "    print(f'EPOCH: {i+1}')\n",
        "\n",
        "    # Train\n",
        "    train_correct = 0   # Set to 0 at the start of each epoch, will be increased for each batch\n",
        "    train_loss = 0      # Set to 0 at the start of each epoch, will be increased for each batch\n",
        "    model.train()       # Train mode\n",
        "    for b,(x_train,y_train) in enumerate(train_loader):\n",
        "        #b += 1\n",
        "        x_train, y_train = x_train.to(device), y_train.to(device)\n",
        "        y_pred = model(x_train)\n",
        "        loss = criterion(y_pred, y_train)\n",
        "        predicted = torch.max(y_pred.data,1)[1]         # The index location of each maximum value found (argmax)\n",
        "        train_correct += (predicted == y_train).sum()   # Number of the correctly predicted training samples\n",
        "        train_loss += loss * y_train.size(0)            # Total training loss, will be divided by sample size to get the average loss\n",
        "        \n",
        "        optimizer.zero_grad()\n",
        "        loss.backward()\n",
        "        optimizer.step()\n",
        "\n",
        "    train_correct_list.append(train_correct)\n",
        "    avg_train_loss = train_loss / train_size\n",
        "    train_loss_list.append(avg_train_loss)\n",
        "    print(f'[Train     ] Loss: {train_loss_list[i]}\\tAccuracy: {train_correct_list[i]/train_size}')           \n",
        "\n",
        "    # Validation\n",
        "    val_correct = 0 # Set to 0 at the start of each epoch, will be increased for each batch\n",
        "    val_loss = 0    # Set to 0 at the start of each epoch, will be increased for each batch\n",
        "    model.eval()    # Validation/Test mode\n",
        "    with torch.no_grad():  \n",
        "        for b,(x_val,y_val) in enumerate(val_loader):\n",
        "            #b += 1\n",
        "            x_val, y_val = x_val.to(device), y_val.to(device)\n",
        "            y_pred = model(x_val)\n",
        "            loss = criterion(y_pred, y_val)\n",
        "            predicted = torch.max(y_pred.data,1)[1]     # The index location of each maximum value found (argmax)\n",
        "            val_correct += (predicted == y_val).sum()   # Number of the correctly predicted validation samples\n",
        "            val_loss += loss * y_val.size(0)            # Total validation loss, will be divided by sample size to get the average loss\n",
        "            \n",
        "    val_correct_list.append(val_correct)\n",
        "    avg_val_loss = val_loss / val_size\n",
        "    val_loss_list.append(avg_val_loss)\n",
        "    print(f'[Validation] Loss: {val_loss_list[i]}\\tAccuracy: {val_correct_list[i]/val_size}')\n",
        "\n",
        "    # If the validation loss is better than the one in previous epoch, store the model state\n",
        "    if val_loss_list[i] < best_val_loss:\n",
        "        best_val_loss = val_loss_list[i]\n",
        "        model_state = {\n",
        "            'epoch': (i+1),\n",
        "            'model_state_dict': model.state_dict(),\n",
        "            'optimizer_state_dict': optimizer.state_dict(),\n",
        "            'loss': val_loss_list[i],\n",
        "            }\n",
        "        print('The validation loss is better, model state is stored.')\n",
        "\n",
        "    else:\n",
        "        print('The validation loss is not better!')\n",
        "    \n",
        "    print('Learning rate:', optimizer.param_groups[0]['lr'])\n",
        "    scheduler.step()    # Decay the learning rate\n",
        "    print('-' * 75)     # End of the epoch\n",
        "\n",
        "# After the training, save the model with best validation loss\n",
        "print('Saving the model with best validation loss...')\n",
        "torch.save(model_state, model_path)"
      ],
      "metadata": {
        "colab": {
          "base_uri": "https://localhost:8080/"
        },
        "id": "Re0ngzwDbMVc",
        "outputId": "b0940a71-5b2b-4fe5-db80-07144c7e71bd"
      },
      "execution_count": 114,
      "outputs": [
        {
          "output_type": "stream",
          "name": "stdout",
          "text": [
            "EPOCH: 1\n",
            "[Train     ] Loss: 4.231771945953369\tAccuracy: 0.45000001788139343\n",
            "[Validation] Loss: 4.915429592132568\tAccuracy: 0.30000001192092896\n",
            "The validation loss is better, model state is stored.\n",
            "Learning rate: 0.001\n",
            "---------------------------------------------------------------------------\n",
            "EPOCH: 2\n",
            "[Train     ] Loss: 1.0901508331298828\tAccuracy: 0.6000000238418579\n",
            "[Validation] Loss: 0.5884214043617249\tAccuracy: 0.699999988079071\n",
            "The validation loss is better, model state is stored.\n",
            "Learning rate: 0.001\n",
            "---------------------------------------------------------------------------\n",
            "EPOCH: 3\n",
            "[Train     ] Loss: 0.8098530769348145\tAccuracy: 0.6333333849906921\n",
            "[Validation] Loss: 0.43455520272254944\tAccuracy: 0.800000011920929\n",
            "The validation loss is better, model state is stored.\n",
            "Learning rate: 0.001\n",
            "---------------------------------------------------------------------------\n",
            "EPOCH: 4\n",
            "[Train     ] Loss: 0.43943142890930176\tAccuracy: 0.8333333730697632\n",
            "[Validation] Loss: 1.0572656393051147\tAccuracy: 0.4000000059604645\n",
            "The validation loss is not better!\n",
            "Learning rate: 0.001\n",
            "---------------------------------------------------------------------------\n",
            "EPOCH: 5\n",
            "[Train     ] Loss: 0.5393520593643188\tAccuracy: 0.6833333969116211\n",
            "[Validation] Loss: 1.118085503578186\tAccuracy: 0.5\n",
            "The validation loss is not better!\n",
            "Learning rate: 0.001\n",
            "---------------------------------------------------------------------------\n",
            "EPOCH: 6\n",
            "[Train     ] Loss: 0.36194002628326416\tAccuracy: 0.8166667222976685\n",
            "[Validation] Loss: 0.784953236579895\tAccuracy: 0.699999988079071\n",
            "The validation loss is not better!\n",
            "Learning rate: 0.001\n",
            "---------------------------------------------------------------------------\n",
            "EPOCH: 7\n",
            "[Train     ] Loss: 0.367767870426178\tAccuracy: 0.8166667222976685\n",
            "[Validation] Loss: 0.8913038372993469\tAccuracy: 0.800000011920929\n",
            "The validation loss is not better!\n",
            "Learning rate: 0.001\n",
            "---------------------------------------------------------------------------\n",
            "EPOCH: 8\n",
            "[Train     ] Loss: 0.35506191849708557\tAccuracy: 0.8166667222976685\n",
            "[Validation] Loss: 0.1125698834657669\tAccuracy: 1.0\n",
            "The validation loss is better, model state is stored.\n",
            "Learning rate: 0.001\n",
            "---------------------------------------------------------------------------\n",
            "EPOCH: 9\n",
            "[Train     ] Loss: 0.2580733001232147\tAccuracy: 0.8666667342185974\n",
            "[Validation] Loss: 0.10358311980962753\tAccuracy: 1.0\n",
            "The validation loss is better, model state is stored.\n",
            "Learning rate: 0.001\n",
            "---------------------------------------------------------------------------\n",
            "EPOCH: 10\n",
            "[Train     ] Loss: 0.3179081678390503\tAccuracy: 0.8666667342185974\n",
            "[Validation] Loss: 0.08266782015562057\tAccuracy: 1.0\n",
            "The validation loss is better, model state is stored.\n",
            "Learning rate: 0.001\n",
            "---------------------------------------------------------------------------\n",
            "EPOCH: 11\n",
            "[Train     ] Loss: 0.3081737458705902\tAccuracy: 0.9000000357627869\n",
            "[Validation] Loss: 0.18670395016670227\tAccuracy: 0.9000000357627869\n",
            "The validation loss is not better!\n",
            "Learning rate: 0.0005\n",
            "---------------------------------------------------------------------------\n",
            "EPOCH: 12\n",
            "[Train     ] Loss: 0.1348741501569748\tAccuracy: 0.9666666984558105\n",
            "[Validation] Loss: 0.17846918106079102\tAccuracy: 0.800000011920929\n",
            "The validation loss is not better!\n",
            "Learning rate: 0.0005\n",
            "---------------------------------------------------------------------------\n",
            "EPOCH: 13\n",
            "[Train     ] Loss: 0.12927208840847015\tAccuracy: 0.9500000476837158\n",
            "[Validation] Loss: 0.1955554485321045\tAccuracy: 0.800000011920929\n",
            "The validation loss is not better!\n",
            "Learning rate: 0.0005\n",
            "---------------------------------------------------------------------------\n",
            "EPOCH: 14\n",
            "[Train     ] Loss: 0.13109810650348663\tAccuracy: 0.9000000357627869\n",
            "[Validation] Loss: 0.4322783052921295\tAccuracy: 0.800000011920929\n",
            "The validation loss is not better!\n",
            "Learning rate: 0.0005\n",
            "---------------------------------------------------------------------------\n",
            "EPOCH: 15\n",
            "[Train     ] Loss: 0.15613776445388794\tAccuracy: 0.9000000357627869\n",
            "[Validation] Loss: 0.15551376342773438\tAccuracy: 0.9000000357627869\n",
            "The validation loss is not better!\n",
            "Learning rate: 0.0005\n",
            "---------------------------------------------------------------------------\n",
            "EPOCH: 16\n",
            "[Train     ] Loss: 0.1203538179397583\tAccuracy: 0.9333333969116211\n",
            "[Validation] Loss: 0.06908749788999557\tAccuracy: 1.0\n",
            "The validation loss is better, model state is stored.\n",
            "Learning rate: 0.0005\n",
            "---------------------------------------------------------------------------\n",
            "EPOCH: 17\n",
            "[Train     ] Loss: 0.10788516700267792\tAccuracy: 0.9500000476837158\n",
            "[Validation] Loss: 0.1503487080335617\tAccuracy: 0.9000000357627869\n",
            "The validation loss is not better!\n",
            "Learning rate: 0.0005\n",
            "---------------------------------------------------------------------------\n",
            "EPOCH: 18\n",
            "[Train     ] Loss: 0.11533855646848679\tAccuracy: 0.98333340883255\n",
            "[Validation] Loss: 0.2977512776851654\tAccuracy: 0.800000011920929\n",
            "The validation loss is not better!\n",
            "Learning rate: 0.0005\n",
            "---------------------------------------------------------------------------\n",
            "EPOCH: 19\n",
            "[Train     ] Loss: 0.112407386302948\tAccuracy: 0.9333333969116211\n",
            "[Validation] Loss: 0.23515062034130096\tAccuracy: 0.9000000357627869\n",
            "The validation loss is not better!\n",
            "Learning rate: 0.0005\n",
            "---------------------------------------------------------------------------\n",
            "EPOCH: 20\n",
            "[Train     ] Loss: 0.06365450471639633\tAccuracy: 0.98333340883255\n",
            "[Validation] Loss: 0.4435335099697113\tAccuracy: 0.800000011920929\n",
            "The validation loss is not better!\n",
            "Learning rate: 0.0005\n",
            "---------------------------------------------------------------------------\n",
            "EPOCH: 21\n",
            "[Train     ] Loss: 0.12020391970872879\tAccuracy: 0.9333333969116211\n",
            "[Validation] Loss: 0.3242458999156952\tAccuracy: 0.800000011920929\n",
            "The validation loss is not better!\n",
            "Learning rate: 0.00025\n",
            "---------------------------------------------------------------------------\n",
            "EPOCH: 22\n",
            "[Train     ] Loss: 0.07171937823295593\tAccuracy: 0.98333340883255\n",
            "[Validation] Loss: 0.37117716670036316\tAccuracy: 0.800000011920929\n",
            "The validation loss is not better!\n",
            "Learning rate: 0.00025\n",
            "---------------------------------------------------------------------------\n",
            "EPOCH: 23\n",
            "[Train     ] Loss: 0.04202074930071831\tAccuracy: 1.0\n",
            "[Validation] Loss: 0.43142053484916687\tAccuracy: 0.800000011920929\n",
            "The validation loss is not better!\n",
            "Learning rate: 0.00025\n",
            "---------------------------------------------------------------------------\n",
            "EPOCH: 24\n",
            "[Train     ] Loss: 0.07230380177497864\tAccuracy: 1.0\n",
            "[Validation] Loss: 0.14445434510707855\tAccuracy: 0.9000000357627869\n",
            "The validation loss is not better!\n",
            "Learning rate: 0.00025\n",
            "---------------------------------------------------------------------------\n",
            "EPOCH: 25\n",
            "[Train     ] Loss: 0.056198600679636\tAccuracy: 0.9500000476837158\n",
            "[Validation] Loss: 0.40447282791137695\tAccuracy: 0.800000011920929\n",
            "The validation loss is not better!\n",
            "Learning rate: 0.00025\n",
            "---------------------------------------------------------------------------\n",
            "EPOCH: 26\n",
            "[Train     ] Loss: 0.06228501722216606\tAccuracy: 0.9333333969116211\n",
            "[Validation] Loss: 0.2948050796985626\tAccuracy: 0.9000000357627869\n",
            "The validation loss is not better!\n",
            "Learning rate: 0.00025\n",
            "---------------------------------------------------------------------------\n",
            "EPOCH: 27\n",
            "[Train     ] Loss: 0.058334171772003174\tAccuracy: 0.9500000476837158\n",
            "[Validation] Loss: 0.2826068103313446\tAccuracy: 0.9000000357627869\n",
            "The validation loss is not better!\n",
            "Learning rate: 0.00025\n",
            "---------------------------------------------------------------------------\n",
            "EPOCH: 28\n",
            "[Train     ] Loss: 0.07388602197170258\tAccuracy: 0.9500000476837158\n",
            "[Validation] Loss: 0.20946763455867767\tAccuracy: 0.9000000357627869\n",
            "The validation loss is not better!\n",
            "Learning rate: 0.00025\n",
            "---------------------------------------------------------------------------\n",
            "EPOCH: 29\n",
            "[Train     ] Loss: 0.07424996048212051\tAccuracy: 0.9500000476837158\n",
            "[Validation] Loss: 0.4085187017917633\tAccuracy: 0.800000011920929\n",
            "The validation loss is not better!\n",
            "Learning rate: 0.00025\n",
            "---------------------------------------------------------------------------\n",
            "EPOCH: 30\n",
            "[Train     ] Loss: 0.05545052886009216\tAccuracy: 0.98333340883255\n",
            "[Validation] Loss: 0.242165207862854\tAccuracy: 0.9000000357627869\n",
            "The validation loss is not better!\n",
            "Learning rate: 0.00025\n",
            "---------------------------------------------------------------------------\n",
            "EPOCH: 31\n",
            "[Train     ] Loss: 0.061487920582294464\tAccuracy: 0.9666666984558105\n",
            "[Validation] Loss: 0.3031866252422333\tAccuracy: 0.9000000357627869\n",
            "The validation loss is not better!\n",
            "Learning rate: 0.000125\n",
            "---------------------------------------------------------------------------\n",
            "EPOCH: 32\n",
            "[Train     ] Loss: 0.056780751794576645\tAccuracy: 0.9666666984558105\n",
            "[Validation] Loss: 0.2689421474933624\tAccuracy: 0.9000000357627869\n",
            "The validation loss is not better!\n",
            "Learning rate: 0.000125\n",
            "---------------------------------------------------------------------------\n",
            "EPOCH: 33\n",
            "[Train     ] Loss: 0.080097496509552\tAccuracy: 0.98333340883255\n",
            "[Validation] Loss: 0.25803884863853455\tAccuracy: 0.9000000357627869\n",
            "The validation loss is not better!\n",
            "Learning rate: 0.000125\n",
            "---------------------------------------------------------------------------\n",
            "EPOCH: 34\n",
            "[Train     ] Loss: 0.05269166827201843\tAccuracy: 0.98333340883255\n",
            "[Validation] Loss: 0.237649068236351\tAccuracy: 0.9000000357627869\n",
            "The validation loss is not better!\n",
            "Learning rate: 0.000125\n",
            "---------------------------------------------------------------------------\n",
            "EPOCH: 35\n",
            "[Train     ] Loss: 0.06202727183699608\tAccuracy: 0.98333340883255\n",
            "[Validation] Loss: 0.21342173218727112\tAccuracy: 0.9000000357627869\n",
            "The validation loss is not better!\n",
            "Learning rate: 0.000125\n",
            "---------------------------------------------------------------------------\n",
            "EPOCH: 36\n",
            "[Train     ] Loss: 0.06769352406263351\tAccuracy: 0.9500000476837158\n",
            "[Validation] Loss: 0.27579671144485474\tAccuracy: 0.9000000357627869\n",
            "The validation loss is not better!\n",
            "Learning rate: 0.000125\n",
            "---------------------------------------------------------------------------\n",
            "EPOCH: 37\n",
            "[Train     ] Loss: 0.042154110968112946\tAccuracy: 0.9666666984558105\n",
            "[Validation] Loss: 0.2692902684211731\tAccuracy: 0.9000000357627869\n",
            "The validation loss is not better!\n",
            "Learning rate: 0.000125\n",
            "---------------------------------------------------------------------------\n",
            "EPOCH: 38\n",
            "[Train     ] Loss: 0.049250926822423935\tAccuracy: 0.98333340883255\n",
            "[Validation] Loss: 0.25803518295288086\tAccuracy: 0.9000000357627869\n",
            "The validation loss is not better!\n",
            "Learning rate: 0.000125\n",
            "---------------------------------------------------------------------------\n",
            "EPOCH: 39\n",
            "[Train     ] Loss: 0.05216577276587486\tAccuracy: 0.98333340883255\n",
            "[Validation] Loss: 0.23479710519313812\tAccuracy: 0.9000000357627869\n",
            "The validation loss is not better!\n",
            "Learning rate: 0.000125\n",
            "---------------------------------------------------------------------------\n",
            "EPOCH: 40\n",
            "[Train     ] Loss: 0.04136282950639725\tAccuracy: 1.0\n",
            "[Validation] Loss: 0.2529664635658264\tAccuracy: 0.9000000357627869\n",
            "The validation loss is not better!\n",
            "Learning rate: 0.000125\n",
            "---------------------------------------------------------------------------\n",
            "Saving the model with best validation loss...\n"
          ]
        }
      ]
    },
    {
      "cell_type": "code",
      "source": [
        "# Plot train and validation loss\n",
        "label_epoch_no = [str(i) for i in range(1,epoch+1)]\n",
        "plt.plot(label_epoch_no, train_loss_list, label='Train Loss')\n",
        "plt.plot(label_epoch_no, val_loss_list, label='Val Loss')\n",
        "plt.xticks([i for i in range(4,40,5)])\n",
        "plt.title('Loss per Epoch')\n",
        "plt.legend()"
      ],
      "metadata": {
        "colab": {
          "base_uri": "https://localhost:8080/",
          "height": 298
        },
        "id": "9IhogKUNluLh",
        "outputId": "4d1c0231-5922-479c-8022-df5ffac4998c"
      },
      "execution_count": 124,
      "outputs": [
        {
          "output_type": "execute_result",
          "data": {
            "text/plain": [
              "<matplotlib.legend.Legend at 0x7ff6f27a21d0>"
            ]
          },
          "metadata": {},
          "execution_count": 124
        },
        {
          "output_type": "display_data",
          "data": {
            "image/png": "[encoded data removed]",
            "text/plain": [
              "<Figure size 432x288 with 1 Axes>"
            ]
          },
          "metadata": {
            "needs_background": "light"
          }
        }
      ]
    },
    {
      "cell_type": "code",
      "source": [
        "# Plot train and validation accuracy\n",
        "plt.plot(label_epoch_no, np.divide(train_correct_list,train_size), label='Train Accuracy')\n",
        "plt.plot(label_epoch_no, np.divide(val_correct_list,val_size), label='Val Accuracy')\n",
        "plt.xticks([i for i in range(4,40,5)])\n",
        "plt.title('Accuracy per Epoch')\n",
        "plt.legend()"
      ],
      "metadata": {
        "colab": {
          "base_uri": "https://localhost:8080/",
          "height": 298
        },
        "id": "zLO7IKN7l-ij",
        "outputId": "6d4a2157-2f70-47d7-edd1-00192680b5cc"
      },
      "execution_count": 125,
      "outputs": [
        {
          "output_type": "execute_result",
          "data": {
            "text/plain": [
              "<matplotlib.legend.Legend at 0x7ff6f2886450>"
            ]
          },
          "metadata": {},
          "execution_count": 125
        },
        {
          "output_type": "display_data",
          "data": {
            "image/png": "[encoded data removed]",
            "text/plain": [
              "<Figure size 432x288 with 1 Axes>"
            ]
          },
          "metadata": {
            "needs_background": "light"
          }
        }
      ]
    },
    {
      "cell_type": "code",
      "source": [
        "# Load the trained model with best validation loss\n",
        "print('Loading the model...')\n",
        "checkpoint = torch.load(model_path)\n",
        "model.load_state_dict(checkpoint['model_state_dict'])\n",
        "optimizer.load_state_dict(checkpoint['optimizer_state_dict'])"
      ],
      "metadata": {
        "colab": {
          "base_uri": "https://localhost:8080/"
        },
        "id": "-hYAAjsrmUeQ",
        "outputId": "6fc5a8e2-3d54-4197-87c8-e728b65ce675"
      },
      "execution_count": 126,
      "outputs": [
        {
          "output_type": "stream",
          "name": "stdout",
          "text": [
            "Loading the model...\n"
          ]
        }
      ]
    },
    {
      "cell_type": "code",
      "source": [
        "# Test\n",
        "test_correct = 0    # Set to 0 at the start of each epoch, will be increased for each batch\n",
        "test_loss = 0       # Set to 0 at the start of each epoch, will be increased for each batch\n",
        "\n",
        "test_predictions = []   # List to store the test predictions\n",
        "test_labels = []        # List to store the corresponding test labels\n",
        "\n",
        "model.eval()        # Validation/Test mode\n",
        "with torch.no_grad():  \n",
        "    for b,(x_test,y_test) in enumerate(test_loader):\n",
        "        #b += 1\n",
        "        x_test, y_test = x_test.to(device), y_test.to(device)\n",
        "        y_pred = model(x_test)\n",
        "        loss = criterion(y_pred, y_test)\n",
        "        predicted = torch.max(y_pred.data,1)[1]     # The index location of each maximum value found (argmax)\n",
        "        test_correct += (predicted == y_test).sum() # Number of the correctly predicted test samples\n",
        "        test_loss += loss * y_test.size(0)          # Total test loss, will be divided by sample size to get the average loss\n",
        "        test_predictions.extend(predicted.cpu().view(-1))\n",
        "        test_labels.extend(y_test.cpu().view(-1))\n",
        "\n",
        "avg_test_loss = test_loss / test_size\n",
        "\n",
        "print(f'[Test      ] Loss: {avg_test_loss}\\tAccuracy: {test_correct/test_size}')"
      ],
      "metadata": {
        "colab": {
          "base_uri": "https://localhost:8080/"
        },
        "id": "RtfS59p2nG-O",
        "outputId": "46e2b3ca-cb14-4e90-8fab-763030f139e3"
      },
      "execution_count": 127,
      "outputs": [
        {
          "output_type": "stream",
          "name": "stdout",
          "text": [
            "[Test      ] Loss: 0.2533908784389496\tAccuracy: 0.9000000357627869\n"
          ]
        }
      ]
    },
    {
      "cell_type": "code",
      "source": [
        "# Print a row of values for reference\n",
        "np.set_printoptions(formatter=dict(int=lambda x: f'{x:4}'))\n",
        "print(np.arange(2).reshape(1,2))\n",
        "# Print class names\n",
        "print(data_set.class_to_idx)\n",
        "# Print the confusion matrix\n",
        "print(confusion_matrix(test_predictions, test_labels))"
      ],
      "metadata": {
        "colab": {
          "base_uri": "https://localhost:8080/"
        },
        "id": "ZSkhdJzFnrIu",
        "outputId": "6ebdbdc9-0596-4495-9349-46ed1eacd132"
      },
      "execution_count": 128,
      "outputs": [
        {
          "output_type": "stream",
          "name": "stdout",
          "text": [
            "[[   0    1]]\n",
            "{'BrokenTooth': 0, 'Healthy': 1}\n",
            "[[   3    1]\n",
            " [   0    6]]\n"
          ]
        }
      ]
    }
  ]
}