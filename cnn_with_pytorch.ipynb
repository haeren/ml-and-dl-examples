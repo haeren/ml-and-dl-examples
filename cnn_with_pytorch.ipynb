{
  "nbformat": 4,
  "nbformat_minor": 0,
  "metadata": {
    "colab": {
      "name": "Hakan-Alp-Eren-HW4.ipynb",
      "provenance": [],
      "collapsed_sections": []
    },
    "kernelspec": {
      "name": "python3",
      "display_name": "Python 3"
    },
    "language_info": {
      "name": "python"
    },
    "accelerator": "GPU"
  },
  "cells": [
    {
      "cell_type": "code",
      "execution_count": 28,
      "metadata": {
        "id": "LRXfwK7kymz0"
      },
      "outputs": [],
      "source": [
        "import numpy as np\n",
        "import os\n",
        "import torch\n",
        "import torch.nn as nn\n",
        "import torch.nn.functional as F\n",
        "import torch.optim as optim\n",
        "import matplotlib.pyplot as plt\n",
        "from torchvision import datasets, transforms\n",
        "from torch.utils.data import DataLoader\n",
        "from sklearn.metrics import confusion_matrix"
      ]
    },
    {
      "cell_type": "code",
      "source": [
        "#torch.cuda.empty_cache()\n",
        "device = torch.device(\"cuda:0\" if torch.cuda.is_available() else \"cpu\")         # Use GPU if available\n",
        "dataPath = '/content/drive/MyDrive/YuksekLisans/DLAPP/HW4/CaltechTinySplit/'    # Path of the data set\n",
        "\n",
        "# Function to get the numbers of train, validation and test samples\n",
        "def getDataSize(folderPath, format='.jpg'):\n",
        "    fileCount = 0\n",
        "    for root, dirs, files in os.walk(folderPath):\n",
        "            for file in files:\n",
        "                if file.endswith('.jpg'):\n",
        "                    fileCount += 1\n",
        "    return fileCount\n",
        "\n",
        "trainSize = getDataSize(dataPath + 'train')\n",
        "valSize = getDataSize(dataPath + 'val')\n",
        "testSize = getDataSize(dataPath + 'test')\n",
        "\n",
        "transform = transforms.Compose([\n",
        "        #transforms.RandomRotation(20),\n",
        "        #transforms.RandomResizedCrop(128),\n",
        "        transforms.Resize((128,128)),\n",
        "        #transforms.RandomHorizontalFlip(),\n",
        "        transforms.ToTensor()])\n",
        "\n",
        "trainSet = datasets.ImageFolder(dataPath + 'train', transform=transform)\n",
        "valSet = datasets.ImageFolder(dataPath + 'val', transform=transform)\n",
        "testSet = datasets.ImageFolder(dataPath + 'test', transform=transform)\n",
        "\n",
        "trainLoader = DataLoader(trainSet, batch_size=16, shuffle=True)\n",
        "valLoader = DataLoader(valSet, batch_size=16, shuffle=False)\n",
        "testLoader = DataLoader(testSet, batch_size=16, shuffle=False)"
      ],
      "metadata": {
        "id": "4SoD0MQ8y48O"
      },
      "execution_count": 29,
      "outputs": []
    },
    {
      "cell_type": "code",
      "source": [
        "class Net(nn.Module):\n",
        "    def __init__(self):\n",
        "        super(Net, self).__init__()\n",
        "        self.conv1 = nn.Conv2d(3, 8, 3, 1)\n",
        "        self.conv2 = nn.Conv2d(8, 16, 3, 1)\n",
        "        self.do1 = nn.Dropout(p=0.25)\n",
        "        self.conv3 = nn.Conv2d(16, 32, 3, 1)\n",
        "        self.conv4 = nn.Conv2d(32, 64, 3, 1)\n",
        "        self.do2 = nn.Dropout(p=0.25)\n",
        "        self.conv5 = nn.Conv2d(64, 128, 3, 1)\n",
        "        self.conv6 = nn.Conv2d(128, 256, 3, 1)\n",
        "        self.fc1 = nn.Linear(54*54*256, 256)\n",
        "        self.do3 = nn.Dropout(p=0.25)\n",
        "        self.fc2 = nn.Linear(256, 9)\n",
        "        self.do4 = nn.Dropout(p=0.25)\n",
        "        \n",
        "    def forward(self, x):\n",
        "        x = self.conv1(x)\n",
        "        x = self.conv2(x)\n",
        "        x = self.do1(x)\n",
        "        x = F.silu(x)\n",
        "        x = F.max_pool2d(x,2,2)\n",
        "        x = self.conv3(x)\n",
        "        x = self.conv4(x)\n",
        "        x = self.do2(x)\n",
        "        x = F.relu(x)\n",
        "        x = torch.tanh(self.conv5(x))   # F.tanh() is depreciated\n",
        "        x = F.silu(self.conv6(x))\n",
        "        # To check the shape before fully connected layer\n",
        "        #print(x.shape)\n",
        "        x = x.view(-1,256*54*54)\n",
        "        x = self.fc1(x)\n",
        "        x = self.do3(x)\n",
        "        x = self.fc2(x)     \n",
        "        x = self.do4(x)\n",
        "        \"\"\"       \n",
        "        F.softmax() should not be used with nn.CrossEntropyLoss()\n",
        "        nn.CrossEntropyLoss() combines nn.LogSoftmax() and nn.NLLLoss()\n",
        "        Either pass raw data to nn.CrossEntropyLoss()\n",
        "        or use F.log_softmax() and pass it to nn.NLLLoss()\n",
        "        \"\"\"\n",
        "        return F.log_softmax(x, dim=1)"
      ],
      "metadata": {
        "id": "i6eD5Px8zXff"
      },
      "execution_count": 30,
      "outputs": []
    },
    {
      "cell_type": "code",
      "source": [
        "#torch.manual_seed(42)\n",
        "model = Net()\n",
        "if torch.cuda.is_available():\n",
        "    model.cuda()\n",
        "\n",
        "criterion = nn.NLLLoss()\n",
        "optimizer = optim.Adam(model.parameters(), lr=1e-4)\n",
        "scheduler = optim.lr_scheduler.StepLR(optimizer, step_size=10, gamma=0.1)\n",
        "epoch = 20\n",
        "\n",
        "trainLossList = []      # List to store the average training loss of each epoch\n",
        "trainCorrectList = []   # List to store the number of correctly predicted training samples per epoch\n",
        "valLossList = []        # List to store the average validation loss of each epoch\n",
        "valCorrectList = []     # List to store the number of correctly predicted validation samples per epoch\n",
        "bestValLoss = np.inf    # To check if the validation loss is better than the one in previous epoch, if so then store the model state\n",
        "modelState = None       # Variable to store the model state\n",
        "modelPath = '/content/drive/MyDrive/YuksekLisans/DLAPP/HW4/model.pt'  # Path to save the model"
      ],
      "metadata": {
        "id": "Ux2Dods9zcNG"
      },
      "execution_count": 31,
      "outputs": []
    },
    {
      "cell_type": "code",
      "source": [
        "for i in range(epoch):\n",
        "    print(f'EPOCH: {i+1}')\n",
        "\n",
        "    # Train\n",
        "    trainCorrect = 0    # Set to 0 at the start of each epoch, will be increased for each batch\n",
        "    trainLoss = 0       # Set to 0 at the start of each epoch, will be increased for each batch\n",
        "    model.train()       # Train mode\n",
        "    for b,(xTrain,yTrain) in enumerate(trainLoader):\n",
        "        #b += 1\n",
        "        xTrain, yTrain = xTrain.to(device), yTrain.to(device)\n",
        "        yPred = model(xTrain)\n",
        "        loss = criterion(yPred, yTrain)\n",
        "        predicted = torch.max(yPred.data,1)[1]          # The index location of each maximum value found (argmax)\n",
        "        trainCorrect += (predicted == yTrain).sum()     # Number of the correctly predicted training samples\n",
        "        trainLoss += loss * yTrain.size(0)              # Total training loss, will be divided by sample size to get the average loss\n",
        "        \n",
        "        optimizer.zero_grad()\n",
        "        loss.backward()\n",
        "        optimizer.step()\n",
        "\n",
        "    trainCorrectList.append(trainCorrect)\n",
        "    avgTrainLoss = trainLoss / trainSize\n",
        "    trainLossList.append(avgTrainLoss)\n",
        "    print(f'[Train     ] Loss: {trainLossList[i]}\\tAccuracy: {trainCorrectList[i]/trainSize}')           \n",
        "\n",
        "    # Validation\n",
        "    valCorrect = 0  # Set to 0 at the start of each epoch, will be increased for each batch\n",
        "    valLoss = 0     # Set to 0 at the start of each epoch, will be increased for each batch\n",
        "    model.eval()    # Validation/Test mode\n",
        "    with torch.no_grad():  \n",
        "        for b,(xVal,yVal) in enumerate(valLoader):\n",
        "            #b += 1\n",
        "            xVal, yVal = xVal.to(device), yVal.to(device)\n",
        "            yPred = model(xVal)\n",
        "            loss = criterion(yPred, yVal)\n",
        "            predicted = torch.max(yPred.data,1)[1]      # The index location of each maximum value found (argmax)\n",
        "            valCorrect += (predicted == yVal).sum()     # Number of the correctly predicted validation samples\n",
        "            valLoss += loss * yVal.size(0)              # Total validation loss, will be divided by sample size to get the average loss\n",
        "            \n",
        "    valCorrectList.append(valCorrect)\n",
        "    avgValLoss = valLoss / valSize\n",
        "    valLossList.append(avgValLoss)\n",
        "    print(f'[Validation] Loss: {valLossList[i]}\\tAccuracy: {valCorrectList[i]/valSize}')\n",
        "\n",
        "    # If the validation loss is better than the one in previous epoch, store the model state\n",
        "    if valLossList[i] < bestValLoss:\n",
        "        bestValLoss = valLossList[i]\n",
        "        modelState = {\n",
        "            'epoch': (i+1),\n",
        "            'model_state_dict': model.state_dict(),\n",
        "            'optimizer_state_dict': optimizer.state_dict(),\n",
        "            'loss': valLossList[i],\n",
        "            }\n",
        "        print('The validation loss is better, model state is stored.')\n",
        "\n",
        "    else:\n",
        "        print('The validation loss is not better!')\n",
        "    \n",
        "    print('Learning rate:', optimizer.param_groups[0]['lr'])\n",
        "    scheduler.step()    # Decay the learning rate\n",
        "    print('-' * 75)     # End of the epoch\n",
        "\n",
        "# After the training, save the model with best validation loss\n",
        "print('Saving the model with best validation loss...')\n",
        "torch.save(modelState, modelPath)"
      ],
      "metadata": {
        "colab": {
          "base_uri": "https://localhost:8080/"
        },
        "id": "Oupr0ioFzidG",
        "outputId": "3c8e932e-60b4-4664-f9e4-edeca32fc317"
      },
      "execution_count": 32,
      "outputs": [
        {
          "output_type": "stream",
          "name": "stdout",
          "text": [
            "EPOCH: 1\n",
            "[Train     ] Loss: 1.2359548807144165\tAccuracy: 0.6307578086853027\n",
            "[Validation] Loss: 0.7475685477256775\tAccuracy: 0.7878787517547607\n",
            "The validation loss is better, model state is stored.\n",
            "Learning rate: 0.0001\n",
            "---------------------------------------------------------------------------\n",
            "EPOCH: 2\n",
            "[Train     ] Loss: 0.8432537913322449\tAccuracy: 0.748142659664154\n",
            "[Validation] Loss: 0.6814295649528503\tAccuracy: 0.781818151473999\n",
            "The validation loss is better, model state is stored.\n",
            "Learning rate: 0.0001\n",
            "---------------------------------------------------------------------------\n",
            "EPOCH: 3\n",
            "[Train     ] Loss: 0.7790939211845398\tAccuracy: 0.7786032557487488\n",
            "[Validation] Loss: 0.571520209312439\tAccuracy: 0.8242424130439758\n",
            "The validation loss is better, model state is stored.\n",
            "Learning rate: 0.0001\n",
            "---------------------------------------------------------------------------\n",
            "EPOCH: 4\n",
            "[Train     ] Loss: 0.6426935791969299\tAccuracy: 0.8001485466957092\n",
            "[Validation] Loss: 0.49104049801826477\tAccuracy: 0.8545454144477844\n",
            "The validation loss is better, model state is stored.\n",
            "Learning rate: 0.0001\n",
            "---------------------------------------------------------------------------\n",
            "EPOCH: 5\n",
            "[Train     ] Loss: 0.5994465947151184\tAccuracy: 0.8098068237304688\n",
            "[Validation] Loss: 0.44513821601867676\tAccuracy: 0.8484848141670227\n",
            "The validation loss is better, model state is stored.\n",
            "Learning rate: 0.0001\n",
            "---------------------------------------------------------------------------\n",
            "EPOCH: 6\n",
            "[Train     ] Loss: 0.5231356024742126\tAccuracy: 0.8424962759017944\n",
            "[Validation] Loss: 0.48282089829444885\tAccuracy: 0.8242424130439758\n",
            "The validation loss is not better!\n",
            "Learning rate: 0.0001\n",
            "---------------------------------------------------------------------------\n",
            "EPOCH: 7\n",
            "[Train     ] Loss: 0.5074669122695923\tAccuracy: 0.8528974652290344\n",
            "[Validation] Loss: 0.4681839644908905\tAccuracy: 0.8545454144477844\n",
            "The validation loss is not better!\n",
            "Learning rate: 0.0001\n",
            "---------------------------------------------------------------------------\n",
            "EPOCH: 8\n",
            "[Train     ] Loss: 0.4190896451473236\tAccuracy: 0.8744427561759949\n",
            "[Validation] Loss: 0.42946669459342957\tAccuracy: 0.8484848141670227\n",
            "The validation loss is better, model state is stored.\n",
            "Learning rate: 0.0001\n",
            "---------------------------------------------------------------------------\n",
            "EPOCH: 9\n",
            "[Train     ] Loss: 0.365182489156723\tAccuracy: 0.8930163383483887\n",
            "[Validation] Loss: 0.42418548464775085\tAccuracy: 0.8666666150093079\n",
            "The validation loss is better, model state is stored.\n",
            "Learning rate: 0.0001\n",
            "---------------------------------------------------------------------------\n",
            "EPOCH: 10\n",
            "[Train     ] Loss: 0.3388804793357849\tAccuracy: 0.9093610644340515\n",
            "[Validation] Loss: 0.4516076147556305\tAccuracy: 0.8545454144477844\n",
            "The validation loss is not better!\n",
            "Learning rate: 0.0001\n",
            "---------------------------------------------------------------------------\n",
            "EPOCH: 11\n",
            "[Train     ] Loss: 0.3120933175086975\tAccuracy: 0.9167904853820801\n",
            "[Validation] Loss: 0.4512174427509308\tAccuracy: 0.8484848141670227\n",
            "The validation loss is not better!\n",
            "Learning rate: 1e-05\n",
            "---------------------------------------------------------------------------\n",
            "EPOCH: 12\n",
            "[Train     ] Loss: 0.27776435017585754\tAccuracy: 0.9182763695716858\n",
            "[Validation] Loss: 0.43831494450569153\tAccuracy: 0.8606060147285461\n",
            "The validation loss is not better!\n",
            "Learning rate: 1e-05\n",
            "---------------------------------------------------------------------------\n",
            "EPOCH: 13\n",
            "[Train     ] Loss: 0.30328866839408875\tAccuracy: 0.9086180925369263\n",
            "[Validation] Loss: 0.4577029347419739\tAccuracy: 0.8484848141670227\n",
            "The validation loss is not better!\n",
            "Learning rate: 1e-05\n",
            "---------------------------------------------------------------------------\n",
            "EPOCH: 14\n",
            "[Train     ] Loss: 0.253134548664093\tAccuracy: 0.9190192818641663\n",
            "[Validation] Loss: 0.4367774724960327\tAccuracy: 0.8666666150093079\n",
            "The validation loss is not better!\n",
            "Learning rate: 1e-05\n",
            "---------------------------------------------------------------------------\n",
            "EPOCH: 15\n",
            "[Train     ] Loss: 0.3053671419620514\tAccuracy: 0.9011886715888977\n",
            "[Validation] Loss: 0.43823495507240295\tAccuracy: 0.8666666150093079\n",
            "The validation loss is not better!\n",
            "Learning rate: 1e-05\n",
            "---------------------------------------------------------------------------\n",
            "EPOCH: 16\n",
            "[Train     ] Loss: 0.2885715961456299\tAccuracy: 0.9041604399681091\n",
            "[Validation] Loss: 0.4319629371166229\tAccuracy: 0.8666666150093079\n",
            "The validation loss is not better!\n",
            "Learning rate: 1e-05\n",
            "---------------------------------------------------------------------------\n",
            "EPOCH: 17\n",
            "[Train     ] Loss: 0.26516351103782654\tAccuracy: 0.9145616292953491\n",
            "[Validation] Loss: 0.42084071040153503\tAccuracy: 0.8727272748947144\n",
            "The validation loss is better, model state is stored.\n",
            "Learning rate: 1e-05\n",
            "---------------------------------------------------------------------------\n",
            "EPOCH: 18\n",
            "[Train     ] Loss: 0.3029424548149109\tAccuracy: 0.8974739909172058\n",
            "[Validation] Loss: 0.4310264587402344\tAccuracy: 0.8666666150093079\n",
            "The validation loss is not better!\n",
            "Learning rate: 1e-05\n",
            "---------------------------------------------------------------------------\n",
            "EPOCH: 19\n",
            "[Train     ] Loss: 0.2540862560272217\tAccuracy: 0.9182763695716858\n",
            "[Validation] Loss: 0.4419136643409729\tAccuracy: 0.8606060147285461\n",
            "The validation loss is not better!\n",
            "Learning rate: 1e-05\n",
            "---------------------------------------------------------------------------\n",
            "EPOCH: 20\n",
            "[Train     ] Loss: 0.26727673411369324\tAccuracy: 0.9242199063301086\n",
            "[Validation] Loss: 0.44438406825065613\tAccuracy: 0.8666666150093079\n",
            "The validation loss is not better!\n",
            "Learning rate: 1e-05\n",
            "---------------------------------------------------------------------------\n",
            "Saving the model with best validation loss...\n"
          ]
        }
      ]
    },
    {
      "cell_type": "code",
      "source": [
        "# Plot train and validation loss\n",
        "labelEpochNo = [str(i) for i in range(1,epoch+1)]\n",
        "plt.plot(labelEpochNo, trainLossList, label='Train Loss')\n",
        "plt.plot(labelEpochNo, valLossList, label='Val Loss')\n",
        "plt.title('Loss per Epoch')\n",
        "plt.legend()"
      ],
      "metadata": {
        "colab": {
          "base_uri": "https://localhost:8080/",
          "height": 298
        },
        "id": "Cv4Ue9a-1wMU",
        "outputId": "fae02480-9693-48ba-fbaa-9705a5b93d6a"
      },
      "execution_count": 33,
      "outputs": [
        {
          "output_type": "execute_result",
          "data": {
            "text/plain": [
              "<matplotlib.legend.Legend at 0x7fe000086c90>"
            ]
          },
          "metadata": {},
          "execution_count": 33
        },
        {
          "output_type": "display_data",
          "data": {
            "image/png": "[encoded data removed]",
            "text/plain": [
              "<Figure size 432x288 with 1 Axes>"
            ]
          },
          "metadata": {
            "needs_background": "light"
          }
        }
      ]
    },
    {
      "cell_type": "code",
      "source": [
        "# Plot train and validation accuracy\n",
        "plt.plot(labelEpochNo, np.divide(trainCorrectList,trainSize), label='Train Accuracy')\n",
        "plt.plot(labelEpochNo, np.divide(valCorrectList,valSize), label='Val Accuracy')\n",
        "plt.title('Accuracy per Epoch')\n",
        "plt.legend()"
      ],
      "metadata": {
        "colab": {
          "base_uri": "https://localhost:8080/",
          "height": 298
        },
        "id": "5m-D7XlRA9fy",
        "outputId": "94ad4a91-57af-4429-d50c-e2ef870ce491"
      },
      "execution_count": 34,
      "outputs": [
        {
          "output_type": "execute_result",
          "data": {
            "text/plain": [
              "<matplotlib.legend.Legend at 0x7fe000104250>"
            ]
          },
          "metadata": {},
          "execution_count": 34
        },
        {
          "output_type": "display_data",
          "data": {
            "image/png": "[encoded data removed]",
            "text/plain": [
              "<Figure size 432x288 with 1 Axes>"
            ]
          },
          "metadata": {
            "needs_background": "light"
          }
        }
      ]
    },
    {
      "cell_type": "code",
      "source": [
        "# Load the trained model with best validation loss\n",
        "print('Loading the model...')\n",
        "checkpoint = torch.load(modelPath)\n",
        "model.load_state_dict(checkpoint['model_state_dict'])\n",
        "optimizer.load_state_dict(checkpoint['optimizer_state_dict'])"
      ],
      "metadata": {
        "colab": {
          "base_uri": "https://localhost:8080/"
        },
        "id": "VtpdcZSTBBhL",
        "outputId": "a6514ec9-b80e-42a5-fa7c-129ddbcc9643"
      },
      "execution_count": 35,
      "outputs": [
        {
          "output_type": "stream",
          "name": "stdout",
          "text": [
            "Loading the model...\n"
          ]
        }
      ]
    },
    {
      "cell_type": "code",
      "source": [
        "# Test\n",
        "testCorrect = 0     # Set to 0 at the start of each epoch, will be increased for each batch\n",
        "testLoss = 0        # Set to 0 at the start of each epoch, will be increased for each batch\n",
        "\n",
        "testPredictions = []    # List to store the test predictions\n",
        "testLabels = []         # List to store the corresponding test labels\n",
        "\n",
        "model.eval()        # Validation/Test mode\n",
        "with torch.no_grad():  \n",
        "    for b,(xTest,yTest) in enumerate(testLoader):\n",
        "        #b += 1\n",
        "        xTest, yTest = xTest.to(device), yTest.to(device)\n",
        "        yPred = model(xTest)\n",
        "        loss = criterion(yPred, yTest)\n",
        "        predicted = torch.max(yPred.data,1)[1]      # The index location of each maximum value found (argmax)\n",
        "        testCorrect += (predicted == yTest).sum()   # Number of the correctly predicted test samples\n",
        "        testLoss += loss * yTest.size(0)            # Total test loss, will be divided by sample size to get the average loss\n",
        "        testPredictions.extend(predicted.cpu().view(-1))\n",
        "        testLabels.extend(yTest.cpu().view(-1))\n",
        "\n",
        "avgTestLoss = testLoss / testSize\n",
        "\n",
        "print(f'[Test      ] Loss: {avgTestLoss}\\tAccuracy: {testCorrect/testSize}')"
      ],
      "metadata": {
        "colab": {
          "base_uri": "https://localhost:8080/"
        },
        "id": "v6M9nkdyBFE5",
        "outputId": "d6d444a7-3436-43c2-c5d4-5ce4794e5ccc"
      },
      "execution_count": 36,
      "outputs": [
        {
          "output_type": "stream",
          "name": "stdout",
          "text": [
            "[Test      ] Loss: 0.3257734179496765\tAccuracy: 0.9022988677024841\n"
          ]
        }
      ]
    },
    {
      "cell_type": "code",
      "source": [
        "# Print a row of values for reference\n",
        "np.set_printoptions(formatter=dict(int=lambda x: f'{x:4}'))\n",
        "print(np.arange(9).reshape(1,9))\n",
        "# Print class names\n",
        "print(testSet.class_to_idx)\n",
        "# Print the confusion matrix\n",
        "print(confusion_matrix(testPredictions, testLabels))"
      ],
      "metadata": {
        "colab": {
          "base_uri": "https://localhost:8080/"
        },
        "id": "nxOll4S_BKpX",
        "outputId": "195c351a-1d7e-4c62-de03-8345d1794e92"
      },
      "execution_count": 37,
      "outputs": [
        {
          "output_type": "stream",
          "name": "stdout",
          "text": [
            "[[   0    1    2    3    4    5    6    7    8]]\n",
            "{'Faces': 0, 'Motorbikes': 1, 'camera': 2, 'cannon': 3, 'cellphone': 4, 'flamingo': 5, 'hawksbill': 6, 'ibis': 7, 'pizza': 8}\n",
            "[[  44    1    0    0    0    2    0    2    3]\n",
            " [   0   80    1    1    0    0    0    0    0]\n",
            " [   0    0    3    0    0    1    0    0    0]\n",
            " [   0    0    0    3    0    0    0    0    0]\n",
            " [   0    0    0    0    6    0    0    0    0]\n",
            " [   0    0    0    0    0    4    0    2    0]\n",
            " [   0    0    0    0    0    0   10    0    0]\n",
            " [   0    0    1    1    1    1    0    4    0]\n",
            " [   0    0    0    0    0    0    0    0    3]]\n"
          ]
        }
      ]
    }
  ]
}